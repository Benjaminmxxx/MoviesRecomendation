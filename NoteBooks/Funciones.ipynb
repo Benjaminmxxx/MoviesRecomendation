{
 "cells": [
  {
   "cell_type": "code",
   "execution_count": 1,
   "metadata": {},
   "outputs": [],
   "source": [
    "import pandas as pd\n"
   ]
  },
  {
   "cell_type": "code",
   "execution_count": 2,
   "metadata": {},
   "outputs": [],
   "source": [
    "df_movies = pd.read_csv(\"../DatosProcesados/movies.csv\") \n",
    "df_crew = pd.read_csv(\"../DatosProcesados//crew.csv\") \n",
    "df_cast = pd.read_csv(\"../DatosProcesados/cast.csv\")"
   ]
  },
  {
   "cell_type": "code",
   "execution_count": 3,
   "metadata": {},
   "outputs": [],
   "source": [
    "#@app.get('/peliculas_idioma/{idioma}')\n",
    "\n",
    "def peliculas_idioma(Idioma: str):\n",
    "    '''Ingresas el idioma, retornando la cantidad de peliculas producidas en el mismo'''\n",
    "\n",
    "    # Filtrar las filas que contengan el idioma deseado en la columna 'spoken_languages'\n",
    "    peliculas_en_idioma = df_movies[df_movies['spoken_languages'].str.contains(Idioma, case=False, na=False)]\n",
    "    \n",
    "    # Contar la cantidad de filas que cumplen con el filtro\n",
    "    cantidad_peliculas = len(peliculas_en_idioma)\n",
    "    \n",
    "    # Generar el mensaje de retorno\n",
    "    mensaje_retorno = f\"{cantidad_peliculas} cantidad de películas fueron estrenadas en {Idioma}\"\n",
    "    \n",
    "    return mensaje_retorno"
   ]
  },
  {
   "cell_type": "code",
   "execution_count": 4,
   "metadata": {},
   "outputs": [
    {
     "data": {
      "text/plain": [
       "'28596 cantidad de películas fueron estrenadas en English'"
      ]
     },
     "execution_count": 4,
     "metadata": {},
     "output_type": "execute_result"
    }
   ],
   "source": [
    "peliculas_idioma('English')"
   ]
  },
  {
   "cell_type": "code",
   "execution_count": 5,
   "metadata": {},
   "outputs": [],
   "source": [
    "#@app.get('/peliculas_duracion/{pelicula}')\n",
    "def peliculas_duracion(pelicula: str):\n",
    "    '''Ingresas la película, retornando la duración y el año'''\n",
    "    \n",
    "    # Filtrar la fila que coincide con el nombre de la película\n",
    "    pelicula_filtrada = df_movies[df_movies['title'] == pelicula]\n",
    "    \n",
    "    if pelicula_filtrada.empty:\n",
    "        return {'mensaje': 'Película no encontrada'}\n",
    "    \n",
    "    # Obtener la duración y el año de lanzamiento de la película filtrada\n",
    "    duracion = pelicula_filtrada['runtime'].values[0]  # Suponiendo que 'runtime' es la duración\n",
    "    anio = pelicula_filtrada['release_year'].values[0]  # Suponiendo que 'release_year' es el año de lanzamiento\n",
    "    \n",
    "    # Generar el diccionario de retorno\n",
    "    respuesta = {'pelicula': pelicula, 'duracion': int(duracion), 'anio': int(anio)}\n",
    "    \n",
    "    return respuesta"
   ]
  },
  {
   "cell_type": "code",
   "execution_count": 6,
   "metadata": {},
   "outputs": [
    {
     "data": {
      "text/plain": [
       "{'pelicula': 'Toy Story', 'duracion': 81, 'anio': 1995}"
      ]
     },
     "execution_count": 6,
     "metadata": {},
     "output_type": "execute_result"
    }
   ],
   "source": [
    "peliculas_duracion('Toy Story')"
   ]
  },
  {
   "cell_type": "code",
   "execution_count": 7,
   "metadata": {},
   "outputs": [],
   "source": [
    "#@app.get('/franquicia/{franquicia}')\n",
    "def franquicia(franquicia: str):\n",
    "    # Filtrar las filas que pertenecen a la franquicia deseada en la columna 'belongs_to_collection'\n",
    "    franquicia_filtrada = df_movies[df_movies['belongs_to_collection'] == franquicia]\n",
    "    \n",
    "    if not franquicia_filtrada.empty:\n",
    "        # Contar la cantidad de películas en la franquicia\n",
    "        cantidad_peliculas = len(franquicia_filtrada)\n",
    "        \n",
    "        # Calcular la ganancia total y el promedio de ganancia\n",
    "        ganancia_total = franquicia_filtrada['revenue'].sum()  # Suponiendo que 'revenue' es la ganancia\n",
    "        ganancia_promedio = franquicia_filtrada['revenue'].mean()\n",
    "        \n",
    "        # Generar el diccionario de retorno\n",
    "        respuesta = {\n",
    "            'franquicia': franquicia,\n",
    "            'cantidad': cantidad_peliculas,\n",
    "            'ganancia_total': ganancia_total,\n",
    "            'ganancia_promedio': ganancia_promedio\n",
    "        }\n",
    "        return respuesta\n",
    "    else:\n",
    "        return None"
   ]
  },
  {
   "cell_type": "code",
   "execution_count": 8,
   "metadata": {},
   "outputs": [
    {
     "data": {
      "text/plain": [
       "{'franquicia': 'The Up Series',\n",
       " 'cantidad': 8,\n",
       " 'ganancia_total': 238073.0,\n",
       " 'ganancia_promedio': 29759.125}"
      ]
     },
     "execution_count": 8,
     "metadata": {},
     "output_type": "execute_result"
    }
   ],
   "source": [
    "franquicia('The Up Series')"
   ]
  },
  {
   "cell_type": "code",
   "execution_count": 9,
   "metadata": {},
   "outputs": [],
   "source": [
    "#@app.get('/peliculas_pais/{pais}')\n",
    "def peliculas_pais(pais: str):\n",
    "    '''Ingresas el pais, retornando la cantidad de peliculas producidas en el mismo'''\n",
    "\n",
    "    # Filtrar las filas que contienen el país deseado en la columna 'production_countries'\n",
    "    peliculas_en_pais = df_movies[df_movies['production_countries'].str.contains(pais, case=False, na=False)]\n",
    "    \n",
    "    # Contar la cantidad de películas que cumplen con el filtro\n",
    "    cantidad_peliculas = len(peliculas_en_pais)\n",
    "    \n",
    "    # Generar el diccionario de retorno\n",
    "    respuesta = {'pais': pais, 'cantidad': cantidad_peliculas}\n",
    "    \n",
    "    return respuesta"
   ]
  },
  {
   "cell_type": "code",
   "execution_count": 10,
   "metadata": {},
   "outputs": [
    {
     "data": {
      "text/plain": [
       "{'pais': 'United Kingdom', 'cantidad': 4074}"
      ]
     },
     "execution_count": 10,
     "metadata": {},
     "output_type": "execute_result"
    }
   ],
   "source": [
    "peliculas_pais('United Kingdom')"
   ]
  },
  {
   "cell_type": "code",
   "execution_count": 11,
   "metadata": {},
   "outputs": [],
   "source": [
    "#@app.get('/productoras_exitosas/{productora}')\n",
    "def productoras_exitosas(productora: str):\n",
    "    '''Ingresas la productora, entregandote el revunue total y la cantidad de peliculas que realizo '''\n",
    "\n",
    "    # Filtrar las filas que contienen la productora deseada en la columna 'production_companies'\n",
    "    peliculas_de_productora = df_movies[df_movies['production_companies'].str.contains(productora, case=False, na=False)]\n",
    "    \n",
    "    if not peliculas_de_productora.empty:\n",
    "        # Calcular el revenue total y la cantidad de películas de la productora\n",
    "        revenue_total = peliculas_de_productora['revenue'].sum()\n",
    "        cantidad_peliculas = len(peliculas_de_productora)\n",
    "        \n",
    "        # Generar el diccionario de retorno\n",
    "        respuesta = {\n",
    "            'productora': productora,\n",
    "            'revenue_total': revenue_total,\n",
    "            'cantidad de pelis': cantidad_peliculas\n",
    "        }\n",
    "        return respuesta\n",
    "    else:\n",
    "        return 'Invalido'"
   ]
  },
  {
   "cell_type": "code",
   "execution_count": 12,
   "metadata": {},
   "outputs": [
    {
     "data": {
      "text/plain": [
       "{'productora': 'Regent Capital',\n",
       " 'revenue_total': 26342061.0,\n",
       " 'cantidad de pelis': 8}"
      ]
     },
     "execution_count": 12,
     "metadata": {},
     "output_type": "execute_result"
    }
   ],
   "source": [
    "productoras_exitosas('Regent Capital')"
   ]
  },
  {
   "cell_type": "code",
   "execution_count": 21,
   "metadata": {},
   "outputs": [],
   "source": [
    "#@app.get('/get_director/{nombre_director}')\n",
    "def get_director(nombre_director: str):\n",
    "\n",
    "    ''' Se ingresa el nombre de un director que se encuentre dentro de un dataset debiendo devolver el éxito del mismo medido a través del retorno. \n",
    "    Además, deberá devolver el nombre de cada película con la fecha de lanzamiento, retorno individual, costo y ganancia de la misma. En formato lista'''\n",
    "    \n",
    "    # Filtrar las filas del DataFrame 'df_crew' que corresponden al director dado\n",
    "    director_filas = df_crew[   (df_crew['department'] == 'Directing') & \n",
    "                                (df_crew['job'] == 'Director') & \n",
    "                                (df_crew['name'] == nombre_director)\n",
    "                            ]\n",
    "    \n",
    "    if not director_filas.empty:\n",
    "        \n",
    "        # Filtrar las filas del DataFrame 'df_movies' que corresponden al director\n",
    "        peliculas_director = df_movies[df_movies['id'].isin(director_filas['id'])]\n",
    "        \n",
    "        # Calcular el éxito del director\n",
    "        retorno_total_director = 0\n",
    "        if peliculas_director['budget'].sum() != 0:\n",
    "            retorno_total_director = peliculas_director['revenue'].sum() / peliculas_director['budget'].sum()\n",
    "        \n",
    "        # Crear una lista de películas con detalles\n",
    "        peliculas = []\n",
    "        for index, row in peliculas_director.iterrows():\n",
    "            if row['budget'] != 0:\n",
    "                retorno_pelicula = row['revenue'] / row['budget']\n",
    "            else:\n",
    "                retorno_pelicula = 0\n",
    "            peliculas.append({\n",
    "                'pelicula': row['title'],\n",
    "                'anio': row['release_year'],\n",
    "                'retorno_pelicula': retorno_pelicula,\n",
    "                'budget_pelicula': row['budget'],\n",
    "                'revenue_pelicula': row['revenue']\n",
    "            })\n",
    "        \n",
    "        # Generar el diccionario de retorno\n",
    "        respuesta = {\n",
    "            'director': nombre_director,\n",
    "            'retorno_total_director': retorno_total_director,\n",
    "            'peliculas': peliculas\n",
    "        }\n",
    "        return respuesta\n",
    "    else:\n",
    "        return 'El director no se encuentra o no es un Director'"
   ]
  },
  {
   "cell_type": "code",
   "execution_count": 31,
   "metadata": {},
   "outputs": [
    {
     "data": {
      "text/html": [
       "<div>\n",
       "<style scoped>\n",
       "    .dataframe tbody tr th:only-of-type {\n",
       "        vertical-align: middle;\n",
       "    }\n",
       "\n",
       "    .dataframe tbody tr th {\n",
       "        vertical-align: top;\n",
       "    }\n",
       "\n",
       "    .dataframe thead th {\n",
       "        text-align: right;\n",
       "    }\n",
       "</style>\n",
       "<table border=\"1\" class=\"dataframe\">\n",
       "  <thead>\n",
       "    <tr style=\"text-align: right;\">\n",
       "      <th></th>\n",
       "      <th>department</th>\n",
       "      <th>gender</th>\n",
       "      <th>id</th>\n",
       "      <th>job</th>\n",
       "      <th>name</th>\n",
       "    </tr>\n",
       "  </thead>\n",
       "  <tbody>\n",
       "    <tr>\n",
       "      <th>197874</th>\n",
       "      <td>Writing</td>\n",
       "      <td>0.0</td>\n",
       "      <td>47920</td>\n",
       "      <td>Screenplay</td>\n",
       "      <td>George O'Neil</td>\n",
       "    </tr>\n",
       "    <tr>\n",
       "      <th>401954</th>\n",
       "      <td>Directing</td>\n",
       "      <td>2.0</td>\n",
       "      <td>101553</td>\n",
       "      <td>Director</td>\n",
       "      <td>Tinto Brass</td>\n",
       "    </tr>\n",
       "  </tbody>\n",
       "</table>\n",
       "</div>"
      ],
      "text/plain": [
       "       department  gender      id         job           name\n",
       "197874    Writing     0.0   47920  Screenplay  George O'Neil\n",
       "401954  Directing     2.0  101553    Director    Tinto Brass"
      ]
     },
     "execution_count": 31,
     "metadata": {},
     "output_type": "execute_result"
    }
   ],
   "source": [
    "df_crew.sample(2)"
   ]
  },
  {
   "cell_type": "code",
   "execution_count": 32,
   "metadata": {},
   "outputs": [
    {
     "data": {
      "text/plain": [
       "{'director': 'Tinto Brass',\n",
       " 'retorno_total_director': 1.3393118824721268,\n",
       " 'peliculas': [{'pelicula': 'Caligula',\n",
       "   'anio': 1979,\n",
       "   'retorno_pelicula': 1.3393211428571428,\n",
       "   'budget_pelicula': 17500000.0,\n",
       "   'revenue_pelicula': 23438120.0},\n",
       "  {'pelicula': 'Salon Kitty',\n",
       "   'anio': 1976,\n",
       "   'retorno_pelicula': 0,\n",
       "   'budget_pelicula': 0.0,\n",
       "   'revenue_pelicula': 0.0},\n",
       "  {'pelicula': 'Cheeky',\n",
       "   'anio': 2000,\n",
       "   'retorno_pelicula': 0,\n",
       "   'budget_pelicula': 0.0,\n",
       "   'revenue_pelicula': 0.0},\n",
       "  {'pelicula': 'The Key: After twenty years of marriage, art professor Nino Rolfe attempts...',\n",
       "   'anio': 1983,\n",
       "   'retorno_pelicula': 0,\n",
       "   'budget_pelicula': 0.0,\n",
       "   'revenue_pelicula': 0.0},\n",
       "  {'pelicula': 'Miranda: Miranda is a sensual tavern owner with a taste for...',\n",
       "   'anio': 1985,\n",
       "   'retorno_pelicula': 0,\n",
       "   'budget_pelicula': 0.0,\n",
       "   'revenue_pelicula': 0.0},\n",
       "  {'pelicula': 'Monella',\n",
       "   'anio': 1998,\n",
       "   'retorno_pelicula': 0,\n",
       "   'budget_pelicula': 0.0,\n",
       "   'revenue_pelicula': 0.0},\n",
       "  {'pelicula': 'Yankee',\n",
       "   'anio': 1966,\n",
       "   'retorno_pelicula': 0,\n",
       "   'budget_pelicula': 0.0,\n",
       "   'revenue_pelicula': 0.0},\n",
       "  {'pelicula': 'Action',\n",
       "   'anio': 1980,\n",
       "   'retorno_pelicula': 0.0,\n",
       "   'budget_pelicula': 121.0,\n",
       "   'revenue_pelicula': 0.0},\n",
       "  {'pelicula': 'Love & Passion',\n",
       "   'anio': 1987,\n",
       "   'retorno_pelicula': 0,\n",
       "   'budget_pelicula': 0.0,\n",
       "   'revenue_pelicula': 0.0},\n",
       "  {'pelicula': 'All Ladies Do It',\n",
       "   'anio': 1992,\n",
       "   'retorno_pelicula': 0,\n",
       "   'budget_pelicula': 0.0,\n",
       "   'revenue_pelicula': 0.0},\n",
       "  {'pelicula': 'P.O. Box Tinto Brass',\n",
       "   'anio': 1995,\n",
       "   'retorno_pelicula': 0,\n",
       "   'budget_pelicula': 0.0,\n",
       "   'revenue_pelicula': 0.0},\n",
       "  {'pelicula': 'Black Angel: March 1945 Asolo, Italy. Livia Mazzion, the attractive wife of...',\n",
       "   'anio': 2002,\n",
       "   'retorno_pelicula': 0,\n",
       "   'budget_pelicula': 0.0,\n",
       "   'revenue_pelicula': 0.0}]}"
      ]
     },
     "execution_count": 32,
     "metadata": {},
     "output_type": "execute_result"
    }
   ],
   "source": [
    "get_director('Tinto Brass')"
   ]
  },
  {
   "cell_type": "code",
   "execution_count": 16,
   "metadata": {},
   "outputs": [
    {
     "data": {
      "text/plain": [
       "\" \\n# ML\\n@app.get('/recomendacion/{titulo}')\\ndef recomendacion(titulo:str):\\n    \""
      ]
     },
     "execution_count": 16,
     "metadata": {},
     "output_type": "execute_result"
    }
   ],
   "source": [
    "''' \n",
    "# ML\n",
    "@app.get('/recomendacion/{titulo}')\n",
    "def recomendacion(titulo:str):\n",
    "    '''#Ingresas un nombre de pelicula y te recomienda las similares en una lista'''\n",
    "    #return {'lista recomendada': respuesta}"
   ]
  }
 ],
 "metadata": {
  "kernelspec": {
   "display_name": "Python 3.8.3 64-bit",
   "language": "python",
   "name": "python3"
  },
  "language_info": {
   "codemirror_mode": {
    "name": "ipython",
    "version": 3
   },
   "file_extension": ".py",
   "mimetype": "text/x-python",
   "name": "python",
   "nbconvert_exporter": "python",
   "pygments_lexer": "ipython3",
   "version": "3.8.3"
  },
  "orig_nbformat": 4,
  "vscode": {
   "interpreter": {
    "hash": "aee8b7b246df8f9039afb4144a1f6fd8d2ca17a180786b69acc140d282b71a49"
   }
  }
 },
 "nbformat": 4,
 "nbformat_minor": 2
}
